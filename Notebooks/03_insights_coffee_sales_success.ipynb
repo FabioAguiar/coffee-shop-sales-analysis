{
 "cells": [
  {
   "cell_type": "markdown",
   "id": "49fb0943-982f-4bd6-aa5c-c3f8ab863c80",
   "metadata": {},
   "source": [
    "# Análise de Vendas em Cafeterias ☕📊\n",
    "\n",
    "Neste projeto, utilizei um dataset público com dados de transações realizadas em uma rede de cafeterias. O objetivo é explorar e entender os padrões de consumo de clientes, identificar os produtos mais vendidos, analisar o desempenho das lojas por localização e levantar insights que possam apoiar decisões estratégicas.\n",
    "\n",
    "Este notebook será desenvolvido para a etapa:\n",
    "1. Visualização e geração de insights\n",
    "2. Análises\n",
    "3. Conclusão geral das análises"
   ]
  },
  {
   "cell_type": "code",
   "execution_count": 13,
   "id": "d899f0e6-b789-48c1-8466-b5d63137738c",
   "metadata": {},
   "outputs": [],
   "source": [
    "import joblib\n",
    "import pandas as pd\n",
    "from sklearn.metrics import classification_report\n",
    "from sklearn.preprocessing import OneHotEncoder, StandardScaler\n",
    "from sklearn.model_selection import train_test_split\n",
    "from sklearn.metrics import f1_score\n",
    "\n",
    "df_model = pd.read_csv(\"C:/data/Coffe Shop Sales/coffee_sales_com_target.csv\")\n",
    "\n",
    "# Carregar o pipeline salvo\n",
    "pipeline_rf = joblib.load('C:/ML/modelos/coffee_sales_model_random_forest.joblib')"
   ]
  },
  {
   "cell_type": "code",
   "execution_count": 2,
   "id": "f06a42ca-a546-405a-b653-7749b34cd712",
   "metadata": {},
   "outputs": [],
   "source": [
    "# Separar features e target\n",
    "X = df_model.drop(columns=['venda_alta'])\n",
    "y = df_model['venda_alta']\n",
    "\n",
    "# Dividir os dados (sem aplicar transformações)\n",
    "X_train, X_test, y_train, y_test = train_test_split(\n",
    "    X, y,\n",
    "    test_size=0.3,\n",
    "    random_state=42,\n",
    "    stratify=y\n",
    ")"
   ]
  },
  {
   "cell_type": "code",
   "execution_count": 3,
   "id": "43e560eb-d6e9-4abc-803c-d07520852c87",
   "metadata": {},
   "outputs": [],
   "source": [
    "# Previsões com o pipeline, que já tem pré-processamento embutido\n",
    "y_pred = pipeline_rf.predict(X_test)"
   ]
  },
  {
   "cell_type": "code",
   "execution_count": 4,
   "id": "c081a9f8-0623-49a8-aaba-9b40cf861e82",
   "metadata": {},
   "outputs": [
    {
     "name": "stdout",
     "output_type": "stream",
     "text": [
      "              precision    recall  f1-score   support\n",
      "\n",
      "           0       1.00      1.00      1.00     36776\n",
      "           1       1.00      1.00      1.00      7959\n",
      "\n",
      "    accuracy                           1.00     44735\n",
      "   macro avg       1.00      1.00      1.00     44735\n",
      "weighted avg       1.00      1.00      1.00     44735\n",
      "\n"
     ]
    }
   ],
   "source": [
    "print(classification_report(y_test, y_pred))"
   ]
  },
  {
   "cell_type": "code",
   "execution_count": 5,
   "id": "5b453dd4-b34d-4ff2-907a-298c5f786557",
   "metadata": {},
   "outputs": [],
   "source": [
    "df_completo = df_model.loc[X_test.index].copy()\n",
    "df_completo['Previsao_Sucesso'] = y_pred"
   ]
  },
  {
   "cell_type": "code",
   "execution_count": 6,
   "id": "07fd5ac1-29fd-4847-8221-586f7d528628",
   "metadata": {},
   "outputs": [
    {
     "data": {
      "text/html": [
       "<div>\n",
       "<style scoped>\n",
       "    .dataframe tbody tr th:only-of-type {\n",
       "        vertical-align: middle;\n",
       "    }\n",
       "\n",
       "    .dataframe tbody tr th {\n",
       "        vertical-align: top;\n",
       "    }\n",
       "\n",
       "    .dataframe thead th {\n",
       "        text-align: right;\n",
       "    }\n",
       "</style>\n",
       "<table border=\"1\" class=\"dataframe\">\n",
       "  <thead>\n",
       "    <tr style=\"text-align: right;\">\n",
       "      <th></th>\n",
       "      <th>transaction_id</th>\n",
       "      <th>transaction_date</th>\n",
       "      <th>transaction_time</th>\n",
       "      <th>transaction_qty</th>\n",
       "      <th>store_id</th>\n",
       "      <th>store_location</th>\n",
       "      <th>product_id</th>\n",
       "      <th>unit_price</th>\n",
       "      <th>product_category</th>\n",
       "      <th>product_type</th>\n",
       "      <th>product_detail</th>\n",
       "      <th>ano</th>\n",
       "      <th>valor_total</th>\n",
       "      <th>venda_alta</th>\n",
       "      <th>Previsao_Sucesso</th>\n",
       "    </tr>\n",
       "  </thead>\n",
       "  <tbody>\n",
       "    <tr>\n",
       "      <th>66064</th>\n",
       "      <td>66234</td>\n",
       "      <td>2023-04-14</td>\n",
       "      <td>09:49:58</td>\n",
       "      <td>1</td>\n",
       "      <td>8</td>\n",
       "      <td>Hell'S Kitchen</td>\n",
       "      <td>63</td>\n",
       "      <td>0.80</td>\n",
       "      <td>Flavours</td>\n",
       "      <td>Regular Syrup</td>\n",
       "      <td>Carmel Syrup</td>\n",
       "      <td>2023</td>\n",
       "      <td>0.80</td>\n",
       "      <td>0</td>\n",
       "      <td>0</td>\n",
       "    </tr>\n",
       "    <tr>\n",
       "      <th>133145</th>\n",
       "      <td>133482</td>\n",
       "      <td>2023-06-17</td>\n",
       "      <td>09:42:24</td>\n",
       "      <td>1</td>\n",
       "      <td>8</td>\n",
       "      <td>Hell'S Kitchen</td>\n",
       "      <td>74</td>\n",
       "      <td>3.50</td>\n",
       "      <td>Bakery</td>\n",
       "      <td>Biscotti</td>\n",
       "      <td>Ginger Biscotti</td>\n",
       "      <td>2023</td>\n",
       "      <td>3.50</td>\n",
       "      <td>0</td>\n",
       "      <td>0</td>\n",
       "    </tr>\n",
       "    <tr>\n",
       "      <th>142849</th>\n",
       "      <td>143186</td>\n",
       "      <td>2023-06-25</td>\n",
       "      <td>10:48:18</td>\n",
       "      <td>2</td>\n",
       "      <td>3</td>\n",
       "      <td>Astoria</td>\n",
       "      <td>32</td>\n",
       "      <td>3.00</td>\n",
       "      <td>Coffee</td>\n",
       "      <td>Gourmet Brewed Coffee</td>\n",
       "      <td>Ethiopia Rg</td>\n",
       "      <td>2023</td>\n",
       "      <td>6.00</td>\n",
       "      <td>0</td>\n",
       "      <td>0</td>\n",
       "    </tr>\n",
       "    <tr>\n",
       "      <th>115281</th>\n",
       "      <td>115543</td>\n",
       "      <td>2023-06-02</td>\n",
       "      <td>12:38:45</td>\n",
       "      <td>1</td>\n",
       "      <td>5</td>\n",
       "      <td>Lower Manhattan</td>\n",
       "      <td>40</td>\n",
       "      <td>3.75</td>\n",
       "      <td>Coffee</td>\n",
       "      <td>Barista Espresso</td>\n",
       "      <td>Cappuccino</td>\n",
       "      <td>2023</td>\n",
       "      <td>3.75</td>\n",
       "      <td>0</td>\n",
       "      <td>0</td>\n",
       "    </tr>\n",
       "    <tr>\n",
       "      <th>78704</th>\n",
       "      <td>78874</td>\n",
       "      <td>2023-04-28</td>\n",
       "      <td>18:11:49</td>\n",
       "      <td>1</td>\n",
       "      <td>3</td>\n",
       "      <td>Astoria</td>\n",
       "      <td>28</td>\n",
       "      <td>2.00</td>\n",
       "      <td>Coffee</td>\n",
       "      <td>Gourmet Brewed Coffee</td>\n",
       "      <td>Columbian Medium Roast Sm</td>\n",
       "      <td>2023</td>\n",
       "      <td>2.00</td>\n",
       "      <td>0</td>\n",
       "      <td>0</td>\n",
       "    </tr>\n",
       "  </tbody>\n",
       "</table>\n",
       "</div>"
      ],
      "text/plain": [
       "        transaction_id transaction_date transaction_time  transaction_qty  \\\n",
       "66064            66234       2023-04-14         09:49:58                1   \n",
       "133145          133482       2023-06-17         09:42:24                1   \n",
       "142849          143186       2023-06-25         10:48:18                2   \n",
       "115281          115543       2023-06-02         12:38:45                1   \n",
       "78704            78874       2023-04-28         18:11:49                1   \n",
       "\n",
       "        store_id   store_location  product_id  unit_price product_category  \\\n",
       "66064          8   Hell'S Kitchen          63        0.80         Flavours   \n",
       "133145         8   Hell'S Kitchen          74        3.50           Bakery   \n",
       "142849         3          Astoria          32        3.00           Coffee   \n",
       "115281         5  Lower Manhattan          40        3.75           Coffee   \n",
       "78704          3          Astoria          28        2.00           Coffee   \n",
       "\n",
       "                 product_type             product_detail   ano  valor_total  \\\n",
       "66064           Regular Syrup               Carmel Syrup  2023         0.80   \n",
       "133145               Biscotti            Ginger Biscotti  2023         3.50   \n",
       "142849  Gourmet Brewed Coffee                Ethiopia Rg  2023         6.00   \n",
       "115281       Barista Espresso                 Cappuccino  2023         3.75   \n",
       "78704   Gourmet Brewed Coffee  Columbian Medium Roast Sm  2023         2.00   \n",
       "\n",
       "        venda_alta  Previsao_Sucesso  \n",
       "66064            0                 0  \n",
       "133145           0                 0  \n",
       "142849           0                 0  \n",
       "115281           0                 0  \n",
       "78704            0                 0  "
      ]
     },
     "execution_count": 6,
     "metadata": {},
     "output_type": "execute_result"
    }
   ],
   "source": [
    "df_completo.head()"
   ]
  },
  {
   "cell_type": "markdown",
   "id": "70dabb59-b572-414d-a9c9-cf56c6ed7ba7",
   "metadata": {},
   "source": [
    "## **Análises**"
   ]
  },
  {
   "cell_type": "markdown",
   "id": "57ee40cb-f0a4-4be8-8fee-a1eceb878657",
   "metadata": {},
   "source": [
    "### **Quais loja têm maior chance de sucesso?**\n",
    "\n",
    "Esta análise permite identificar quais lojas têm maior chance de gerar vendas acima da média, segundo as previsões do modelo. "
   ]
  },
  {
   "cell_type": "code",
   "execution_count": 20,
   "id": "6908709c-57af-4754-ad24-f6948a56854d",
   "metadata": {},
   "outputs": [
    {
     "name": "stdout",
     "output_type": "stream",
     "text": [
      "store_location\n",
      "Lower Manhattan    0.21\n",
      "Astoria            0.17\n",
      "Hell'S Kitchen     0.16\n",
      "Name: Previsao_Sucesso, dtype: float64\n"
     ]
    }
   ],
   "source": [
    "df_store_location_sucesso = df_completo.groupby('store_location')['Previsao_Sucesso'].mean().sort_values(ascending=False).round(2)\n",
    "print(df_store_location_sucesso)"
   ]
  },
  {
   "cell_type": "markdown",
   "id": "5d3daea7-63b5-4029-98f2-c7fa8c48f910",
   "metadata": {},
   "source": [
    "### **Análise de F1-Score por Loja**\n",
    "\n",
    "Comparação das previsões do modelo com os valores reais de teste usando o F1-Score, a fim de entender como cada loja de produto está sendo classificada."
   ]
  },
  {
   "cell_type": "code",
   "execution_count": 42,
   "id": "08fe2612-ac06-4f75-bae2-ccb03e34d062",
   "metadata": {},
   "outputs": [
    {
     "name": "stdout",
     "output_type": "stream",
     "text": [
      "store_location\n",
      "Astoria            1.0\n",
      "Hell'S Kitchen     1.0\n",
      "Lower Manhattan    1.0\n",
      "dtype: float64\n"
     ]
    },
    {
     "name": "stderr",
     "output_type": "stream",
     "text": [
      "C:\\Users\\fabio\\AppData\\Local\\Temp\\ipykernel_35336\\493200089.py:14: DeprecationWarning: DataFrameGroupBy.apply operated on the grouping columns. This behavior is deprecated, and in a future version of pandas the grouping columns will be excluded from the operation. Either pass `include_groups=False` to exclude the groupings or explicitly select the grouping columns after groupby to silence this warning.\n",
      "  df_f1_por_loja = df_avaliacao.groupby('store_location').apply(f1_por_categoria).sort_values(ascending=False)\n"
     ]
    }
   ],
   "source": [
    "# Garante que os dados estão organizados\n",
    "df_avaliacao = df_completo.copy()\n",
    "df_avaliacao['Real_Sucesso'] = y_test\n",
    "\n",
    "# Função auxiliar para calcular o F1-score de cada grupo\n",
    "def f1_por_categoria(grupo):\n",
    "    try:\n",
    "        return f1_score(grupo['Real_Sucesso'], grupo['Previsao_Sucesso'], average='binary', zero_division=0) #average='binary' assume que sua variável alvo (Sucesso) é binária (ex: 0 ou 1). Se for multiclasse, trocar para average='macro', average='weighted', etc.\n",
    "    except:\n",
    "        return float('nan')\n",
    "\n",
    "\n",
    "# Calcula F1-score por categoria do produto\n",
    "df_f1_por_loja = df_avaliacao.groupby('store_location').apply(f1_por_categoria).sort_values(ascending=False)\n",
    "\n",
    "print(df_f1_por_loja)"
   ]
  },
  {
   "cell_type": "markdown",
   "id": "bda6e9e4-7857-4d58-8eae-92ab95db76dd",
   "metadata": {},
   "source": [
    "### **Quais categorias têm maior chance de sucesso?**\n",
    "\n",
    "Identificação de quais categorias vendidas na cafeteria têm maior chance de gerar vendas acima da média, segundo as previsões do modelo. "
   ]
  },
  {
   "cell_type": "code",
   "execution_count": 43,
   "id": "fc27f43c-3092-4b9f-a91c-2d3fea6f6bde",
   "metadata": {},
   "outputs": [
    {
     "name": "stdout",
     "output_type": "stream",
     "text": [
      "product_category\n",
      "Branded               1.00\n",
      "Coffee Beans          1.00\n",
      "Loose Tea             1.00\n",
      "Packaged Chocolate    1.00\n",
      "Drinking Chocolate    0.51\n",
      "Coffee                0.21\n",
      "Tea                   0.09\n",
      "Bakery                0.01\n",
      "Flavours              0.00\n",
      "Name: Previsao_Sucesso, dtype: float64\n"
     ]
    }
   ],
   "source": [
    "df_product_category_sucesso = df_completo.groupby('product_category')['Previsao_Sucesso'].mean().sort_values(ascending=False).round(2)\n",
    "print(df_product_category_sucesso)"
   ]
  },
  {
   "cell_type": "markdown",
   "id": "5240caa1-fceb-4b53-b780-e499edf4bc13",
   "metadata": {},
   "source": [
    "### **Análise de F1-Score por Categoria de Produto**\n",
    "\n",
    "É possível que não haja amostras suficientes (ou mesmo nenhuma) da categoria Flavours no conjunto de teste, ou que estejam presentes apenas em uma das classes (sucesso ou fracasso). O F1-Score depende de precisão e recall, que por sua vez exigem previsões positivas corretas. Sem exemplos para comparar, o F1-Score será 0."
   ]
  },
  {
   "cell_type": "code",
   "execution_count": 44,
   "id": "51cf8d39-fa5e-4b51-8495-6a8ee7b2a988",
   "metadata": {},
   "outputs": [
    {
     "name": "stdout",
     "output_type": "stream",
     "text": [
      "product_category\n",
      "Bakery                1.0\n",
      "Branded               1.0\n",
      "Coffee                1.0\n",
      "Coffee Beans          1.0\n",
      "Drinking Chocolate    1.0\n",
      "Loose Tea             1.0\n",
      "Packaged Chocolate    1.0\n",
      "Tea                   1.0\n",
      "Flavours              0.0\n",
      "dtype: float64\n"
     ]
    },
    {
     "name": "stderr",
     "output_type": "stream",
     "text": [
      "C:\\Users\\fabio\\AppData\\Local\\Temp\\ipykernel_35336\\1407761049.py:14: DeprecationWarning: DataFrameGroupBy.apply operated on the grouping columns. This behavior is deprecated, and in a future version of pandas the grouping columns will be excluded from the operation. Either pass `include_groups=False` to exclude the groupings or explicitly select the grouping columns after groupby to silence this warning.\n",
      "  df_f1_por_categoria = df_avaliacao.groupby('product_category').apply(f1_por_categoria).sort_values(ascending=False)\n"
     ]
    }
   ],
   "source": [
    "# Garante que os dados estão organizados\n",
    "df_avaliacao = df_completo.copy()\n",
    "df_avaliacao['Real_Sucesso'] = y_test\n",
    "\n",
    "# Função auxiliar para calcular o F1-score de cada grupo\n",
    "def f1_por_categoria(grupo):\n",
    "    try:\n",
    "        return f1_score(grupo['Real_Sucesso'], grupo['Previsao_Sucesso'], average='binary', zero_division=0) #average='binary' assume que sua variável alvo (Sucesso) é binária (ex: 0 ou 1). Se for multiclasse, trocar para average='macro', average='weighted', etc.\n",
    "    except:\n",
    "        return float('nan')\n",
    "\n",
    "\n",
    "# Calcula F1-score por categoria do produto\n",
    "df_f1_por_categoria = df_avaliacao.groupby('product_category').apply(f1_por_categoria).sort_values(ascending=False)\n",
    "\n",
    "print(df_f1_por_categoria)"
   ]
  },
  {
   "cell_type": "markdown",
   "id": "4f8e3155-5288-4144-a67d-fd8d4a5de649",
   "metadata": {},
   "source": [
    "### **Quais tipos de produto têm maior chance de sucesso?**\n",
    "\n",
    "Identificação de quais tipos de produto vendidas na cafeteria têm maior chance de gerar vendas acima da média, segundo as previsões do modelo. Isso pode ajudar no planejamento de estoque, campanhas promocionais e decisões estratégicas de precificação."
   ]
  },
  {
   "cell_type": "code",
   "execution_count": 45,
   "id": "797034e3-94f0-4392-8456-3a3ef11b6950",
   "metadata": {},
   "outputs": [
    {
     "name": "stdout",
     "output_type": "stream",
     "text": [
      "product_type\n",
      "Green Beans              1.00\n",
      "Green Tea                1.00\n",
      "Black Tea                1.00\n",
      "Premium Beans            1.00\n",
      "Organic Chocolate        1.00\n",
      "Organic Beans            1.00\n",
      "Housewares               1.00\n",
      "Chai Tea                 1.00\n",
      "Clothing                 1.00\n",
      "Drinking Chocolate       1.00\n",
      "House Blend Beans        1.00\n",
      "Espresso Beans           1.00\n",
      "Gourmet Beans            1.00\n",
      "Herbal Tea               1.00\n",
      "Hot Chocolate            0.51\n",
      "Barista Espresso         0.35\n",
      "Premium Brewed Coffee    0.34\n",
      "Organic Brewed Coffee    0.18\n",
      "Brewed Chai Tea          0.18\n",
      "Gourmet Brewed Coffee    0.10\n",
      "Brewed Green Tea         0.03\n",
      "Brewed Herbal Tea        0.03\n",
      "Brewed Black Tea         0.03\n",
      "Scone                    0.02\n",
      "Drip Coffee              0.02\n",
      "Biscotti                 0.01\n",
      "Pastry                   0.01\n",
      "Regular Syrup            0.00\n",
      "Sugar Free Syrup         0.00\n",
      "Name: Previsao_Sucesso, dtype: float64\n"
     ]
    }
   ],
   "source": [
    "df_product_type_sucesso = df_completo.groupby('product_type')['Previsao_Sucesso'].mean().sort_values(ascending=False).round(2)\n",
    "print(df_product_type_sucesso)"
   ]
  },
  {
   "cell_type": "markdown",
   "id": "6acc2735-5df8-42d7-aeb0-e7915b21c915",
   "metadata": {},
   "source": [
    "### **Análise de F1-Score por Tipo de Produto**\n",
    "\n",
    "É provável que Regular Syrup, Sugar Free Syrup e Flavours compartilhem do mesmo problema: essas categorias/tipos de produto não possuem amostras suficientes para que o modelo consiga aprender ou prever corretamente os padrões de sucesso."
   ]
  },
  {
   "cell_type": "code",
   "execution_count": 48,
   "id": "3eb12956-5875-4d7b-b1a5-7642f6b82588",
   "metadata": {},
   "outputs": [
    {
     "name": "stdout",
     "output_type": "stream",
     "text": [
      "product_type\n",
      "Barista Espresso         1.0\n",
      "Biscotti                 1.0\n",
      "Scone                    1.0\n",
      "Premium Brewed Coffee    1.0\n",
      "Premium Beans            1.0\n",
      "Pastry                   1.0\n",
      "Organic Chocolate        1.0\n",
      "Organic Brewed Coffee    1.0\n",
      "Organic Beans            1.0\n",
      "Housewares               1.0\n",
      "House Blend Beans        1.0\n",
      "Hot Chocolate            1.0\n",
      "Herbal Tea               1.0\n",
      "Green Tea                1.0\n",
      "Green Beans              1.0\n",
      "Gourmet Brewed Coffee    1.0\n",
      "Gourmet Beans            1.0\n",
      "Espresso Beans           1.0\n",
      "Drip Coffee              1.0\n",
      "Drinking Chocolate       1.0\n",
      "Clothing                 1.0\n",
      "Chai Tea                 1.0\n",
      "Brewed Herbal Tea        1.0\n",
      "Brewed Green Tea         1.0\n",
      "Brewed Chai Tea          1.0\n",
      "Brewed Black Tea         1.0\n",
      "Black Tea                1.0\n",
      "Regular Syrup            0.0\n",
      "Sugar Free Syrup         0.0\n",
      "dtype: float64\n"
     ]
    },
    {
     "name": "stderr",
     "output_type": "stream",
     "text": [
      "C:\\Users\\fabio\\AppData\\Local\\Temp\\ipykernel_35336\\3882410984.py:14: DeprecationWarning: DataFrameGroupBy.apply operated on the grouping columns. This behavior is deprecated, and in a future version of pandas the grouping columns will be excluded from the operation. Either pass `include_groups=False` to exclude the groupings or explicitly select the grouping columns after groupby to silence this warning.\n",
      "  df_f1_por_categoria = df_avaliacao.groupby('product_type').apply(f1_por_tipo).sort_values(ascending=False)\n"
     ]
    }
   ],
   "source": [
    "# Garante que os dados estão organizados\n",
    "df_avaliacao = df_completo.copy()\n",
    "df_avaliacao['Real_Sucesso'] = y_test\n",
    "\n",
    "# Função auxiliar para calcular o F1-score de cada grupo\n",
    "def f1_por_tipo(grupo):\n",
    "    try:\n",
    "        return f1_score(grupo['Real_Sucesso'], grupo['Previsao_Sucesso'], average='binary', zero_division=0) #average='binary' assume que sua variável alvo (Sucesso) é binária (ex: 0 ou 1). Se for multiclasse, trocar para average='macro', average='weighted', etc.\n",
    "    except:\n",
    "        return float('nan')\n",
    "\n",
    "\n",
    "# Calcula F1-score por categoria do produto\n",
    "df_f1_por_categoria = df_avaliacao.groupby('product_type').apply(f1_por_tipo).sort_values(ascending=False)\n",
    "\n",
    "print(df_f1_por_categoria)"
   ]
  },
  {
   "cell_type": "code",
   "execution_count": null,
   "id": "09f1baa2-c153-4894-8d92-4bf00db544e8",
   "metadata": {},
   "outputs": [],
   "source": []
  },
  {
   "cell_type": "code",
   "execution_count": 37,
   "id": "fb779143-f00f-4014-bff6-a99585fcb9e1",
   "metadata": {},
   "outputs": [
    {
     "data": {
      "image/png": "[encoded data removed]",
      "text/plain": [
       "<Figure size 1600x600 with 2 Axes>"
      ]
     },
     "metadata": {},
     "output_type": "display_data"
    }
   ],
   "source": [
    "import matplotlib.pyplot as plt\n",
    "import seaborn as sns\n",
    "\n",
    "sns.set(style=\"whitegrid\")\n",
    "\n",
    "fig, axes = plt.subplots(1, 2, figsize=(16, 6))\n",
    "\n",
    "# Distribuição do preço unitário\n",
    "sns.histplot(data=df_avaliacao, x='unit_price', hue='Previsao_Sucesso', multiple='stack', kde=True, palette='Set2', ax=axes[0])\n",
    "axes[0].set_title('Distribuição do Preço Unitário por Sucesso da Venda')\n",
    "axes[0].set_xlabel('Preço Unitário (unit_price)')\n",
    "axes[0].set_ylabel('Contagem')\n",
    "axes[0].set_xlim(0, df_avaliacao['unit_price'].quantile(0.95))  # Limita ao percentil 95\n",
    "\n",
    "# Distribuição do valor total\n",
    "sns.histplot(data=df_avaliacao, x='valor_total', hue='Previsao_Sucesso', multiple='stack', kde=True, palette='Set2', ax=axes[1])\n",
    "axes[1].set_title('Distribuição do Valor Total por Sucesso da Venda')\n",
    "axes[1].set_xlabel('Valor Total da Venda')\n",
    "axes[1].set_ylabel('Contagem')\n",
    "axes[1].set_xlim(0, df_avaliacao['valor_total'].quantile(0.95))  # Limita ao percentil 95\n",
    "\n",
    "plt.tight_layout()\n",
    "plt.show()\n"
   ]
  },
  {
   "cell_type": "code",
   "execution_count": 40,
   "id": "e091a027-1f41-4816-b022-ed034dc1f572",
   "metadata": {},
   "outputs": [
    {
     "name": "stderr",
     "output_type": "stream",
     "text": [
      "C:\\Users\\fabio\\AppData\\Local\\Temp\\ipykernel_35336\\2154656590.py:4: FutureWarning: \n",
      "\n",
      "Passing `palette` without assigning `hue` is deprecated and will be removed in v0.14.0. Assign the `x` variable to `hue` and set `legend=False` for the same effect.\n",
      "\n",
      "  sns.boxplot(data=df_avaliacao, x='Previsao_Sucesso', y='unit_price', palette='Set2', ax=axes[0])\n",
      "C:\\Users\\fabio\\AppData\\Local\\Temp\\ipykernel_35336\\2154656590.py:10: FutureWarning: \n",
      "\n",
      "Passing `palette` without assigning `hue` is deprecated and will be removed in v0.14.0. Assign the `x` variable to `hue` and set `legend=False` for the same effect.\n",
      "\n",
      "  sns.boxplot(data=df_avaliacao, x='Previsao_Sucesso', y='valor_total', palette='Set2', ax=axes[1])\n"
     ]
    },
    {
     "data": {
      "image/png": "[encoded data removed]",
      "text/plain": [
       "<Figure size 1600x600 with 2 Axes>"
      ]
     },
     "metadata": {},
     "output_type": "display_data"
    }
   ],
   "source": [
    "fig, axes = plt.subplots(1, 2, figsize=(16, 6))\n",
    "\n",
    "# Boxplot de unit_price\n",
    "sns.boxplot(data=df_avaliacao, x='Previsao_Sucesso', y='unit_price', palette='Set2', ax=axes[0])\n",
    "axes[0].set_title('Preço Unitário por Sucesso da Venda')\n",
    "axes[0].set_xlabel('Previsão de Sucesso')\n",
    "axes[0].set_ylabel('Preço Unitário')\n",
    "\n",
    "# Boxplot de valor_total\n",
    "sns.boxplot(data=df_avaliacao, x='Previsao_Sucesso', y='valor_total', palette='Set2', ax=axes[1])\n",
    "axes[1].set_title('Valor Total por Sucesso da Venda')\n",
    "axes[1].set_xlabel('Previsão de Sucesso')\n",
    "axes[1].set_ylabel('Valor Total')\n",
    "\n",
    "plt.tight_layout()\n",
    "plt.show()"
   ]
  },
  {
   "cell_type": "code",
   "execution_count": 41,
   "id": "55f922c5-90c3-40b6-b922-d1c40d4515a9",
   "metadata": {},
   "outputs": [
    {
     "name": "stdout",
     "output_type": "stream",
     "text": [
      "   Previsao_Sucesso  media_unit_price  mediana_unit_price  desvio_unit_price  \\\n",
      "0                 0          2.899443                3.00           0.790977   \n",
      "1                 1          5.701916                3.75           5.775664   \n",
      "\n",
      "   media_valor_total  mediana_valor_total  desvio_valor_total  contagem  \n",
      "0           3.704738                  3.5            1.292826     36776  \n",
      "1           9.309982                  7.5            8.373716      7959  \n"
     ]
    }
   ],
   "source": [
    "# Agrupamento por sucesso/fracasso\n",
    "df_agrupado = df_completo.groupby('Previsao_Sucesso')[['unit_price', 'valor_total']].agg(\n",
    "    media_unit_price=('unit_price', 'mean'),\n",
    "    mediana_unit_price=('unit_price', 'median'),\n",
    "    desvio_unit_price=('unit_price', 'std'),\n",
    "    media_valor_total=('valor_total', 'mean'),\n",
    "    mediana_valor_total=('valor_total', 'median'),\n",
    "    desvio_valor_total=('valor_total', 'std'),\n",
    "    contagem=('unit_price', 'count')\n",
    ").reset_index()\n",
    "\n",
    "# Visualizar\n",
    "print(df_agrupado)\n"
   ]
  },
  {
   "cell_type": "code",
   "execution_count": null,
   "id": "1c9afda9-e2fa-4265-ba5e-b21498da9db5",
   "metadata": {},
   "outputs": [],
   "source": []
  },
  {
   "cell_type": "markdown",
   "id": "8f5a7340-6cb8-4a41-b3cd-fbb35eb89923",
   "metadata": {},
   "source": [
    "## Análise de Erros do Modelo"
   ]
  },
  {
   "cell_type": "markdown",
   "id": "13de0b4f-3a19-4f49-9dd3-21d8e76d17fe",
   "metadata": {},
   "source": [
    "#### Tabela com Falsos Positivos (FP)"
   ]
  },
  {
   "cell_type": "code",
   "execution_count": 52,
   "id": "4fe57757-babc-4d8e-901d-e2db6aa8d51c",
   "metadata": {},
   "outputs": [
    {
     "data": {
      "text/html": [
       "<div>\n",
       "<style scoped>\n",
       "    .dataframe tbody tr th:only-of-type {\n",
       "        vertical-align: middle;\n",
       "    }\n",
       "\n",
       "    .dataframe tbody tr th {\n",
       "        vertical-align: top;\n",
       "    }\n",
       "\n",
       "    .dataframe thead th {\n",
       "        text-align: right;\n",
       "    }\n",
       "</style>\n",
       "<table border=\"1\" class=\"dataframe\">\n",
       "  <thead>\n",
       "    <tr style=\"text-align: right;\">\n",
       "      <th></th>\n",
       "      <th>transaction_id</th>\n",
       "      <th>transaction_date</th>\n",
       "      <th>transaction_time</th>\n",
       "      <th>transaction_qty</th>\n",
       "      <th>store_id</th>\n",
       "      <th>store_location</th>\n",
       "      <th>product_id</th>\n",
       "      <th>unit_price</th>\n",
       "      <th>product_category</th>\n",
       "      <th>product_type</th>\n",
       "      <th>product_detail</th>\n",
       "      <th>ano</th>\n",
       "      <th>valor_total</th>\n",
       "      <th>venda_alta</th>\n",
       "      <th>Previsao_Sucesso</th>\n",
       "      <th>Real_Sucesso</th>\n",
       "    </tr>\n",
       "  </thead>\n",
       "  <tbody>\n",
       "  </tbody>\n",
       "</table>\n",
       "</div>"
      ],
      "text/plain": [
       "Empty DataFrame\n",
       "Columns: [transaction_id, transaction_date, transaction_time, transaction_qty, store_id, store_location, product_id, unit_price, product_category, product_type, product_detail, ano, valor_total, venda_alta, Previsao_Sucesso, Real_Sucesso]\n",
       "Index: []"
      ]
     },
     "execution_count": 52,
     "metadata": {},
     "output_type": "execute_result"
    }
   ],
   "source": [
    "# Garante que os dados estão organizados\n",
    "df_avaliacao = df_completo.copy()\n",
    "df_avaliacao['Real_Sucesso'] = y_test\n",
    "\n",
    "df_avaliacao[(df_avaliacao['Real_Sucesso'] == 1) & (df_avaliacao['Previsao_Sucesso'] == 0)]"
   ]
  },
  {
   "cell_type": "markdown",
   "id": "4255655a-4ed0-4f25-b8d0-cf8b60adaf87",
   "metadata": {},
   "source": [
    "#### Tabela com Falsos Negativos (FN)"
   ]
  },
  {
   "cell_type": "code",
   "execution_count": 54,
   "id": "a2af2323-798c-47ff-a84b-311908268954",
   "metadata": {},
   "outputs": [
    {
     "data": {
      "text/html": [
       "<div>\n",
       "<style scoped>\n",
       "    .dataframe tbody tr th:only-of-type {\n",
       "        vertical-align: middle;\n",
       "    }\n",
       "\n",
       "    .dataframe tbody tr th {\n",
       "        vertical-align: top;\n",
       "    }\n",
       "\n",
       "    .dataframe thead th {\n",
       "        text-align: right;\n",
       "    }\n",
       "</style>\n",
       "<table border=\"1\" class=\"dataframe\">\n",
       "  <thead>\n",
       "    <tr style=\"text-align: right;\">\n",
       "      <th></th>\n",
       "      <th>transaction_id</th>\n",
       "      <th>transaction_date</th>\n",
       "      <th>transaction_time</th>\n",
       "      <th>transaction_qty</th>\n",
       "      <th>store_id</th>\n",
       "      <th>store_location</th>\n",
       "      <th>product_id</th>\n",
       "      <th>unit_price</th>\n",
       "      <th>product_category</th>\n",
       "      <th>product_type</th>\n",
       "      <th>product_detail</th>\n",
       "      <th>ano</th>\n",
       "      <th>valor_total</th>\n",
       "      <th>venda_alta</th>\n",
       "      <th>Previsao_Sucesso</th>\n",
       "      <th>Real_Sucesso</th>\n",
       "    </tr>\n",
       "  </thead>\n",
       "  <tbody>\n",
       "  </tbody>\n",
       "</table>\n",
       "</div>"
      ],
      "text/plain": [
       "Empty DataFrame\n",
       "Columns: [transaction_id, transaction_date, transaction_time, transaction_qty, store_id, store_location, product_id, unit_price, product_category, product_type, product_detail, ano, valor_total, venda_alta, Previsao_Sucesso, Real_Sucesso]\n",
       "Index: []"
      ]
     },
     "execution_count": 54,
     "metadata": {},
     "output_type": "execute_result"
    }
   ],
   "source": [
    "df_avaliacao[(df_avaliacao['Real_Sucesso'] == 0) & (df_avaliacao['Previsao_Sucesso'] == 1)]"
   ]
  },
  {
   "cell_type": "code",
   "execution_count": null,
   "id": "74dc18c1-a872-4295-9c2c-cd42b339af77",
   "metadata": {},
   "outputs": [],
   "source": []
  },
  {
   "cell_type": "markdown",
   "id": "bc3bc13d-36f2-48f0-a5a6-ef0cc6135f0d",
   "metadata": {},
   "source": [
    "## Análise de Sucesso por Variáveis Categóricas\n",
    "\n",
    "A seguir, analisamos as variáveis categóricas presentes no conjunto de dados — **localização da loja**, **categoria do produto** e **tipo de produto** — para identificar quais delas apresentam maior chance de sucesso de vendas segundo o modelo preditivo.\n",
    "\n",
    "### 📍 Localização da Loja\n",
    "\n",
    "A análise das médias de previsão de sucesso por loja mostra que:\n",
    "\n",
    "- **Lower Manhattan** apresenta a maior taxa média de sucesso, com **21%** das vendas acima da média previstas como bem-sucedidas.\n",
    "- **Astoria** aparece em segundo lugar, com **17%** de sucesso.\n",
    "- **Hell’s Kitchen** está logo atrás, com **16%**.\n",
    "\n",
    "Essa informação é valiosa para decisões estratégicas, como alocação de estoque e ações promocionais direcionadas por localização.\n",
    "\n",
    "### 📦 Categoria do Produto\n",
    "\n",
    "As categorias de produto com maior chance média de sucesso são:\n",
    "\n",
    "- **Branded**, **Coffee Beans**, **Loose Tea**, **Packaged Chocolate** e **Drinking Chocolate** — todas com previsão de sucesso em **100%** das suas vendas.\n",
    "- Em contraste, categorias como **Bakery (1%)**, **Tea (9%)**, **Coffee (21%)** e especialmente **Flavours (0%)** apresentaram baixíssimas taxas de sucesso previstas.\n",
    "\n",
    "A ausência de previsões positivas para a categoria **Flavours** pode indicar:\n",
    "- Pouca representatividade dessa categoria nos dados de treinamento.\n",
    "- Alta taxa de fracasso histórico nas vendas desses produtos.\n",
    "- Falta de padrão reconhecível pelo modelo que indique sucesso.\n",
    "\n",
    "### 🏷️ Tipo de Produto\n",
    "\n",
    "A análise por tipo de produto revelou insights similares:\n",
    "\n",
    "- Os tipos com **100% de previsão de sucesso** incluem:\n",
    "  - **Green Beans**, **Green Tea**, **Black Tea**, **Premium Beans**, **Organic Chocolate**, **Organic Coffee**, **Organic Beans**, **Housewares**, **Chai Tea**, **Clothing**, **Drinking Chocolate**, **House Blend Beans**, **Espresso Beans**, **Gourmet Beans**, entre outros.\n",
    "- Alguns produtos, apesar de populares, apresentaram **baixo desempenho**, como:\n",
    "  - **Pastry**, **Biscotti**, **Scone**, **Drip Coffee** — todos com **0%** de previsões de sucesso.\n",
    "  - **Regular Syrup** e **Sugar Free Syrup** também tiveram **0%**, o que sugere o mesmo problema enfrentado pela categoria **Flavours**: ausência de previsões positivas devido à baixa performance histórica ou à escassez de dados representativos.\n",
    "\n",
    "## Distribuição de Preço Unitário e Valor Total por Sucesso da Venda\n",
    "\n",
    "### `unit_price` por Sucesso da Venda\n",
    "\n",
    "A distribuição do `unit_price` revelou o seguinte padrão:\n",
    "- As **vendas bem-sucedidas** concentram-se majoritariamente em faixas de preço mais baixas, especialmente entre **R$ 2,00 e R$ 5,00**.\n",
    "- Já as **vendas fracassadas** tendem a ocorrer com **preços unitários mais elevados**, havendo uma concentração visível entre **R$ 5,00 e R$ 8,00**, e alguns outliers acima de R$ 10,00.\n",
    "\n",
    "🔎 **Interpretação:**  \n",
    "Preços mais altos parecem reduzir a probabilidade de uma venda ser bem-sucedida. Esse padrão pode indicar **sensibilidade do consumidor ao preço**, sugerindo que promoções e ajustes estratégicos nos preços de itens específicos podem aumentar a taxa de sucesso.\n",
    "\n",
    "---\n",
    "\n",
    "### `valor_total` por Sucesso da Venda\n",
    "A análise da variável `valor_total` (ou seja, o total pago em cada pedido) apresentou um comportamento semelhante:\n",
    "- Vendas de sucesso se concentram em **valores totais mais baixos**, majoritariamente **até R$ 20,00**.\n",
    "- Vendas fracassadas apresentam uma **distribuição mais dispersa**, com maior frequência em faixas **acima de R$ 25,00**, incluindo diversos casos acima de R$ 40,00.\n",
    "\n",
    "🔎 **Interpretação:**  \n",
    "Quanto maior o valor total do pedido, menor parece ser a chance de sucesso. Isso pode ser reflexo de **pedidos grandes não concluídos**, **carrinhos abandonados** ou **menor apetite por consumo em altos valores**, especialmente em determinados horários ou dias da semana.\n",
    "\n",
    "---\n",
    "\n",
    "### 📌 Conclusão\n",
    "\n",
    "A análise das variáveis `unit_price` e `valor_total` aponta uma **correlação negativa entre preço e sucesso de venda**. Essa informação é valiosa para orientar estratégias de:\n",
    "\n",
    "- **Precificação e promoções**, especialmente em produtos com preço unitário acima da média.\n",
    "- **Campanhas direcionadas** para incentivar a conclusão de pedidos com valor total elevado.\n",
    "- **Otimização de combos e descontos progressivos**, para estimular a conversão de pedidos de maior valor."
   ]
  },
  {
   "cell_type": "code",
   "execution_count": null,
   "id": "5ad392d1-a3a7-4529-92e8-39583953a367",
   "metadata": {},
   "outputs": [],
   "source": []
  },
  {
   "cell_type": "markdown",
   "id": "0c48b1e6-5b8f-4551-b8b5-b152977e1df0",
   "metadata": {},
   "source": [
    "### **Exportação dos Resultados das Análises**"
   ]
  },
  {
   "cell_type": "code",
   "execution_count": null,
   "id": "de217ef1-d628-4c7e-ba3b-041daa786932",
   "metadata": {},
   "outputs": [],
   "source": [
    "df_store_location_sucesso.to_csv('analise_store_location_sucesso.csv', index=True)\n",
    "df_product_category_sucesso.to_csv('analise_category_product_sucesso.csv', index=True)\n",
    "df_product_type_sucesso.to_csv('analise_type_product_sucesso.csv', index=True)"
   ]
  }
 ],
 "metadata": {
  "kernelspec": {
   "display_name": "Python 3 (ipykernel)",
   "language": "python",
   "name": "python3"
  },
  "language_info": {
   "codemirror_mode": {
    "name": "ipython",
    "version": 3
   },
   "file_extension": ".py",
   "mimetype": "text/x-python",
   "name": "python",
   "nbconvert_exporter": "python",
   "pygments_lexer": "ipython3",
   "version": "3.12.7"
  }
 },
 "nbformat": 4,
 "nbformat_minor": 5
}
