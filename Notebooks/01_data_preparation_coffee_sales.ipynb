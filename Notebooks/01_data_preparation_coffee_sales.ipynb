{
 "cells": [
  {
   "cell_type": "markdown",
   "id": "2bb6458d-8e7e-4e73-a215-150b7d241d5f",
   "metadata": {},
   "source": [
    "# Análise de Vendas em Cafeterias ☕📊\n",
    "\n",
    "Neste projeto, utilizarei um dataset público com dados de transações realizadas em uma rede de cafeterias. O objetivo é explorar e entender os padrões de consumo de clientes, identificar os produtos mais vendidos, analisar o desempenho das lojas por localização e levantar insights que possam apoiar decisões estratégicas.\n",
    "\n",
    "Este notebook será desenvolvido para as etapas:\n",
    "1. Entendimento e exploração dos dados\n",
    "2. Limpeza e transformação\n",
    "3. Criação da variável-alvo (target)\n",
    "4. Criar tabela calendário para uso posterior no Power Bi"
   ]
  },
  {
   "cell_type": "code",
   "execution_count": 1,
   "id": "b20c5661-7275-4fc2-b3b0-892fc97718fc",
   "metadata": {},
   "outputs": [],
   "source": [
    "import pandas as pd\n",
    "import seaborn as sns\n",
    "import matplotlib.pyplot as plt"
   ]
  },
  {
   "cell_type": "code",
   "execution_count": 2,
   "id": "2c6d49d2-7d9a-416f-b025-4f0766fbd78b",
   "metadata": {},
   "outputs": [],
   "source": [
    "# Importação\n",
    "df_coffee_sales = pd.read_excel(\"C:/data/Coffe Shop Sales/raw/Coffee_Shop_Sales.xlsx\")\n",
    "df_coffee_sales_dictionary = pd.read_csv(\"C:/data/Coffe Shop Sales/raw/coffee_data_dictionary.csv\", sep=';')"
   ]
  },
  {
   "cell_type": "markdown",
   "id": "818b98dc-a330-49e2-af61-818dca667ef3",
   "metadata": {},
   "source": [
    "## Entendimento Inicial dos Dados"
   ]
  },
  {
   "cell_type": "code",
   "execution_count": 3,
   "id": "98c78898-c331-4caf-8153-7fa2fcc28b49",
   "metadata": {},
   "outputs": [
    {
     "data": {
      "text/html": [
       "<div>\n",
       "<style scoped>\n",
       "    .dataframe tbody tr th:only-of-type {\n",
       "        vertical-align: middle;\n",
       "    }\n",
       "\n",
       "    .dataframe tbody tr th {\n",
       "        vertical-align: top;\n",
       "    }\n",
       "\n",
       "    .dataframe thead th {\n",
       "        text-align: right;\n",
       "    }\n",
       "</style>\n",
       "<table border=\"1\" class=\"dataframe\">\n",
       "  <thead>\n",
       "    <tr style=\"text-align: right;\">\n",
       "      <th></th>\n",
       "      <th>Field</th>\n",
       "      <th>Description</th>\n",
       "    </tr>\n",
       "  </thead>\n",
       "  <tbody>\n",
       "    <tr>\n",
       "      <th>0</th>\n",
       "      <td>transaction_id</td>\n",
       "      <td>Unique sequential ID representing an individua...</td>\n",
       "    </tr>\n",
       "    <tr>\n",
       "      <th>1</th>\n",
       "      <td>transaction_date</td>\n",
       "      <td>Date of the transaction (MM/DD/YY)</td>\n",
       "    </tr>\n",
       "    <tr>\n",
       "      <th>2</th>\n",
       "      <td>transaction_time</td>\n",
       "      <td>Timestamp of the transaction (HH:MM:SS)</td>\n",
       "    </tr>\n",
       "    <tr>\n",
       "      <th>3</th>\n",
       "      <td>transaction_qty</td>\n",
       "      <td>Quantity of items sold</td>\n",
       "    </tr>\n",
       "    <tr>\n",
       "      <th>4</th>\n",
       "      <td>store_id</td>\n",
       "      <td>Unique ID of the coffee shop where the transac...</td>\n",
       "    </tr>\n",
       "    <tr>\n",
       "      <th>5</th>\n",
       "      <td>store_location</td>\n",
       "      <td>Location of the coffee shop where the transact...</td>\n",
       "    </tr>\n",
       "    <tr>\n",
       "      <th>6</th>\n",
       "      <td>product_id</td>\n",
       "      <td>Unique ID of the product sold</td>\n",
       "    </tr>\n",
       "    <tr>\n",
       "      <th>7</th>\n",
       "      <td>unit_price</td>\n",
       "      <td>Retail price of the product sold</td>\n",
       "    </tr>\n",
       "    <tr>\n",
       "      <th>8</th>\n",
       "      <td>product_category</td>\n",
       "      <td>Description of the product category</td>\n",
       "    </tr>\n",
       "    <tr>\n",
       "      <th>9</th>\n",
       "      <td>product_type</td>\n",
       "      <td>Description of the product type</td>\n",
       "    </tr>\n",
       "    <tr>\n",
       "      <th>10</th>\n",
       "      <td>product_detail</td>\n",
       "      <td>Description of the product detail</td>\n",
       "    </tr>\n",
       "  </tbody>\n",
       "</table>\n",
       "</div>"
      ],
      "text/plain": [
       "               Field                                        Description\n",
       "0     transaction_id  Unique sequential ID representing an individua...\n",
       "1   transaction_date                 Date of the transaction (MM/DD/YY)\n",
       "2   transaction_time            Timestamp of the transaction (HH:MM:SS)\n",
       "3   transaction_qty                              Quantity of items sold\n",
       "4           store_id  Unique ID of the coffee shop where the transac...\n",
       "5     store_location  Location of the coffee shop where the transact...\n",
       "6         product_id                      Unique ID of the product sold\n",
       "7         unit_price                   Retail price of the product sold\n",
       "8   product_category                Description of the product category\n",
       "9       product_type                    Description of the product type\n",
       "10    product_detail                  Description of the product detail"
      ]
     },
     "execution_count": 3,
     "metadata": {},
     "output_type": "execute_result"
    }
   ],
   "source": [
    "df_coffee_sales_dictionary"
   ]
  },
  {
   "cell_type": "code",
   "execution_count": 4,
   "id": "4e12cbfb-0739-4dcd-a8ff-f2d4705d0357",
   "metadata": {},
   "outputs": [
    {
     "name": "stdout",
     "output_type": "stream",
     "text": [
      "<class 'pandas.core.frame.DataFrame'>\n",
      "RangeIndex: 149116 entries, 0 to 149115\n",
      "Data columns (total 11 columns):\n",
      " #   Column            Non-Null Count   Dtype         \n",
      "---  ------            --------------   -----         \n",
      " 0   transaction_id    149116 non-null  int64         \n",
      " 1   transaction_date  149116 non-null  datetime64[ns]\n",
      " 2   transaction_time  149116 non-null  object        \n",
      " 3   transaction_qty   149116 non-null  int64         \n",
      " 4   store_id          149116 non-null  int64         \n",
      " 5   store_location    149116 non-null  object        \n",
      " 6   product_id        149116 non-null  int64         \n",
      " 7   unit_price        149116 non-null  float64       \n",
      " 8   product_category  149116 non-null  object        \n",
      " 9   product_type      149116 non-null  object        \n",
      " 10  product_detail    149116 non-null  object        \n",
      "dtypes: datetime64[ns](1), float64(1), int64(4), object(5)\n",
      "memory usage: 12.5+ MB\n"
     ]
    },
    {
     "data": {
      "text/plain": [
       "transaction_id      0\n",
       "transaction_date    0\n",
       "transaction_time    0\n",
       "transaction_qty     0\n",
       "store_id            0\n",
       "store_location      0\n",
       "product_id          0\n",
       "unit_price          0\n",
       "product_category    0\n",
       "product_type        0\n",
       "product_detail      0\n",
       "dtype: int64"
      ]
     },
     "execution_count": 4,
     "metadata": {},
     "output_type": "execute_result"
    }
   ],
   "source": [
    "df_coffee_sales.info()\n",
    "df_coffee_sales.describe()\n",
    "df_coffee_sales.isnull().sum()"
   ]
  },
  {
   "cell_type": "code",
   "execution_count": 5,
   "id": "506d6113-29cf-4168-bd26-3cfad80aba86",
   "metadata": {},
   "outputs": [
    {
     "data": {
      "text/html": [
       "<div>\n",
       "<style scoped>\n",
       "    .dataframe tbody tr th:only-of-type {\n",
       "        vertical-align: middle;\n",
       "    }\n",
       "\n",
       "    .dataframe tbody tr th {\n",
       "        vertical-align: top;\n",
       "    }\n",
       "\n",
       "    .dataframe thead th {\n",
       "        text-align: right;\n",
       "    }\n",
       "</style>\n",
       "<table border=\"1\" class=\"dataframe\">\n",
       "  <thead>\n",
       "    <tr style=\"text-align: right;\">\n",
       "      <th></th>\n",
       "      <th>Nulos</th>\n",
       "      <th>Porcentagem (%)</th>\n",
       "    </tr>\n",
       "  </thead>\n",
       "  <tbody>\n",
       "    <tr>\n",
       "      <th>transaction_id</th>\n",
       "      <td>0</td>\n",
       "      <td>0.0</td>\n",
       "    </tr>\n",
       "    <tr>\n",
       "      <th>transaction_date</th>\n",
       "      <td>0</td>\n",
       "      <td>0.0</td>\n",
       "    </tr>\n",
       "    <tr>\n",
       "      <th>transaction_time</th>\n",
       "      <td>0</td>\n",
       "      <td>0.0</td>\n",
       "    </tr>\n",
       "    <tr>\n",
       "      <th>transaction_qty</th>\n",
       "      <td>0</td>\n",
       "      <td>0.0</td>\n",
       "    </tr>\n",
       "    <tr>\n",
       "      <th>store_id</th>\n",
       "      <td>0</td>\n",
       "      <td>0.0</td>\n",
       "    </tr>\n",
       "    <tr>\n",
       "      <th>store_location</th>\n",
       "      <td>0</td>\n",
       "      <td>0.0</td>\n",
       "    </tr>\n",
       "    <tr>\n",
       "      <th>product_id</th>\n",
       "      <td>0</td>\n",
       "      <td>0.0</td>\n",
       "    </tr>\n",
       "    <tr>\n",
       "      <th>unit_price</th>\n",
       "      <td>0</td>\n",
       "      <td>0.0</td>\n",
       "    </tr>\n",
       "    <tr>\n",
       "      <th>product_category</th>\n",
       "      <td>0</td>\n",
       "      <td>0.0</td>\n",
       "    </tr>\n",
       "    <tr>\n",
       "      <th>product_type</th>\n",
       "      <td>0</td>\n",
       "      <td>0.0</td>\n",
       "    </tr>\n",
       "    <tr>\n",
       "      <th>product_detail</th>\n",
       "      <td>0</td>\n",
       "      <td>0.0</td>\n",
       "    </tr>\n",
       "  </tbody>\n",
       "</table>\n",
       "</div>"
      ],
      "text/plain": [
       "                  Nulos  Porcentagem (%)\n",
       "transaction_id        0              0.0\n",
       "transaction_date      0              0.0\n",
       "transaction_time      0              0.0\n",
       "transaction_qty       0              0.0\n",
       "store_id              0              0.0\n",
       "store_location        0              0.0\n",
       "product_id            0              0.0\n",
       "unit_price            0              0.0\n",
       "product_category      0              0.0\n",
       "product_type          0              0.0\n",
       "product_detail        0              0.0"
      ]
     },
     "execution_count": 5,
     "metadata": {},
     "output_type": "execute_result"
    }
   ],
   "source": [
    "# Quantidade de valores nulos\n",
    "nulos = df_coffee_sales.isnull().sum()\n",
    "porcentagem = (nulos / len(df_coffee_sales)) * 100\n",
    "\n",
    "pd.DataFrame({\n",
    "    'Nulos': nulos,\n",
    "    'Porcentagem (%)': porcentagem.round(2)\n",
    "})"
   ]
  },
  {
   "cell_type": "code",
   "execution_count": 6,
   "id": "d3167e41-0c69-4fdb-bfd5-64b59479e592",
   "metadata": {},
   "outputs": [
    {
     "data": {
      "text/html": [
       "<div>\n",
       "<style scoped>\n",
       "    .dataframe tbody tr th:only-of-type {\n",
       "        vertical-align: middle;\n",
       "    }\n",
       "\n",
       "    .dataframe tbody tr th {\n",
       "        vertical-align: top;\n",
       "    }\n",
       "\n",
       "    .dataframe thead th {\n",
       "        text-align: right;\n",
       "    }\n",
       "</style>\n",
       "<table border=\"1\" class=\"dataframe\">\n",
       "  <thead>\n",
       "    <tr style=\"text-align: right;\">\n",
       "      <th></th>\n",
       "      <th>transaction_id</th>\n",
       "      <th>transaction_date</th>\n",
       "      <th>transaction_time</th>\n",
       "      <th>transaction_qty</th>\n",
       "      <th>store_id</th>\n",
       "      <th>store_location</th>\n",
       "      <th>product_id</th>\n",
       "      <th>unit_price</th>\n",
       "      <th>product_category</th>\n",
       "      <th>product_type</th>\n",
       "      <th>product_detail</th>\n",
       "    </tr>\n",
       "  </thead>\n",
       "  <tbody>\n",
       "    <tr>\n",
       "      <th>0</th>\n",
       "      <td>1</td>\n",
       "      <td>2023-01-01</td>\n",
       "      <td>07:06:11</td>\n",
       "      <td>2</td>\n",
       "      <td>5</td>\n",
       "      <td>Lower Manhattan</td>\n",
       "      <td>32</td>\n",
       "      <td>3.0</td>\n",
       "      <td>Coffee</td>\n",
       "      <td>Gourmet brewed coffee</td>\n",
       "      <td>Ethiopia Rg</td>\n",
       "    </tr>\n",
       "    <tr>\n",
       "      <th>1</th>\n",
       "      <td>2</td>\n",
       "      <td>2023-01-01</td>\n",
       "      <td>07:08:56</td>\n",
       "      <td>2</td>\n",
       "      <td>5</td>\n",
       "      <td>Lower Manhattan</td>\n",
       "      <td>57</td>\n",
       "      <td>3.1</td>\n",
       "      <td>Tea</td>\n",
       "      <td>Brewed Chai tea</td>\n",
       "      <td>Spicy Eye Opener Chai Lg</td>\n",
       "    </tr>\n",
       "    <tr>\n",
       "      <th>2</th>\n",
       "      <td>3</td>\n",
       "      <td>2023-01-01</td>\n",
       "      <td>07:14:04</td>\n",
       "      <td>2</td>\n",
       "      <td>5</td>\n",
       "      <td>Lower Manhattan</td>\n",
       "      <td>59</td>\n",
       "      <td>4.5</td>\n",
       "      <td>Drinking Chocolate</td>\n",
       "      <td>Hot chocolate</td>\n",
       "      <td>Dark chocolate Lg</td>\n",
       "    </tr>\n",
       "    <tr>\n",
       "      <th>3</th>\n",
       "      <td>4</td>\n",
       "      <td>2023-01-01</td>\n",
       "      <td>07:20:24</td>\n",
       "      <td>1</td>\n",
       "      <td>5</td>\n",
       "      <td>Lower Manhattan</td>\n",
       "      <td>22</td>\n",
       "      <td>2.0</td>\n",
       "      <td>Coffee</td>\n",
       "      <td>Drip coffee</td>\n",
       "      <td>Our Old Time Diner Blend Sm</td>\n",
       "    </tr>\n",
       "    <tr>\n",
       "      <th>4</th>\n",
       "      <td>5</td>\n",
       "      <td>2023-01-01</td>\n",
       "      <td>07:22:41</td>\n",
       "      <td>2</td>\n",
       "      <td>5</td>\n",
       "      <td>Lower Manhattan</td>\n",
       "      <td>57</td>\n",
       "      <td>3.1</td>\n",
       "      <td>Tea</td>\n",
       "      <td>Brewed Chai tea</td>\n",
       "      <td>Spicy Eye Opener Chai Lg</td>\n",
       "    </tr>\n",
       "  </tbody>\n",
       "</table>\n",
       "</div>"
      ],
      "text/plain": [
       "   transaction_id transaction_date transaction_time  transaction_qty  \\\n",
       "0               1       2023-01-01         07:06:11                2   \n",
       "1               2       2023-01-01         07:08:56                2   \n",
       "2               3       2023-01-01         07:14:04                2   \n",
       "3               4       2023-01-01         07:20:24                1   \n",
       "4               5       2023-01-01         07:22:41                2   \n",
       "\n",
       "   store_id   store_location  product_id  unit_price    product_category  \\\n",
       "0         5  Lower Manhattan          32         3.0              Coffee   \n",
       "1         5  Lower Manhattan          57         3.1                 Tea   \n",
       "2         5  Lower Manhattan          59         4.5  Drinking Chocolate   \n",
       "3         5  Lower Manhattan          22         2.0              Coffee   \n",
       "4         5  Lower Manhattan          57         3.1                 Tea   \n",
       "\n",
       "            product_type               product_detail  \n",
       "0  Gourmet brewed coffee                  Ethiopia Rg  \n",
       "1        Brewed Chai tea     Spicy Eye Opener Chai Lg  \n",
       "2          Hot chocolate            Dark chocolate Lg  \n",
       "3            Drip coffee  Our Old Time Diner Blend Sm  \n",
       "4        Brewed Chai tea     Spicy Eye Opener Chai Lg  "
      ]
     },
     "execution_count": 6,
     "metadata": {},
     "output_type": "execute_result"
    }
   ],
   "source": [
    "df_coffee_sales.head()"
   ]
  },
  {
   "cell_type": "markdown",
   "id": "6124f62c-2c6a-41e3-a2d5-b66690977fa5",
   "metadata": {},
   "source": [
    "#### Verificação dos valores únicos de store_location"
   ]
  },
  {
   "cell_type": "code",
   "execution_count": 7,
   "id": "e63bf0cc-653b-4d1f-b1d0-a9b523781ff9",
   "metadata": {},
   "outputs": [
    {
     "data": {
      "text/plain": [
       "array(['Lower Manhattan', \"Hell's Kitchen\", 'Astoria'], dtype=object)"
      ]
     },
     "execution_count": 7,
     "metadata": {},
     "output_type": "execute_result"
    }
   ],
   "source": [
    "df_coffee_sales[\"store_location\"].unique()"
   ]
  },
  {
   "cell_type": "code",
   "execution_count": 8,
   "id": "a2dd899e-adc8-4c59-a814-bc832e6a9a1b",
   "metadata": {},
   "outputs": [
    {
     "data": {
      "text/plain": [
       "store_location\n",
       "Hell's Kitchen     50735\n",
       "Astoria            50599\n",
       "Lower Manhattan    47782\n",
       "Name: count, dtype: int64"
      ]
     },
     "execution_count": 8,
     "metadata": {},
     "output_type": "execute_result"
    }
   ],
   "source": [
    "df_coffee_sales[\"store_location\"].value_counts()"
   ]
  },
  {
   "cell_type": "markdown",
   "id": "6a808091-5ff0-4b56-b617-91ef7412110b",
   "metadata": {},
   "source": [
    "#### Verificação dos valores únicos de product_category"
   ]
  },
  {
   "cell_type": "code",
   "execution_count": 9,
   "id": "82ac6caa-0e85-4f9b-b5b9-48176ba37e55",
   "metadata": {},
   "outputs": [
    {
     "data": {
      "text/plain": [
       "array(['Coffee', 'Tea', 'Drinking Chocolate', 'Bakery', 'Flavours',\n",
       "       'Loose Tea', 'Coffee beans', 'Packaged Chocolate', 'Branded'],\n",
       "      dtype=object)"
      ]
     },
     "execution_count": 9,
     "metadata": {},
     "output_type": "execute_result"
    }
   ],
   "source": [
    "df_coffee_sales[\"product_category\"].unique()"
   ]
  },
  {
   "cell_type": "code",
   "execution_count": 10,
   "id": "528b1f71-2b6b-460c-b779-d762b6210118",
   "metadata": {},
   "outputs": [
    {
     "data": {
      "text/plain": [
       "product_category\n",
       "Coffee                58416\n",
       "Tea                   45449\n",
       "Bakery                22796\n",
       "Drinking Chocolate    11468\n",
       "Flavours               6790\n",
       "Coffee beans           1753\n",
       "Loose Tea              1210\n",
       "Branded                 747\n",
       "Packaged Chocolate      487\n",
       "Name: count, dtype: int64"
      ]
     },
     "execution_count": 10,
     "metadata": {},
     "output_type": "execute_result"
    }
   ],
   "source": [
    "df_coffee_sales[\"product_category\"].value_counts()"
   ]
  },
  {
   "cell_type": "markdown",
   "id": "faca2f29-c4d9-43d2-88d3-4721f52735d2",
   "metadata": {},
   "source": [
    "#### Verificação dos valores únicos de product_type"
   ]
  },
  {
   "cell_type": "code",
   "execution_count": 11,
   "id": "b90dfa3e-7903-4376-b484-f6b5dbec89c3",
   "metadata": {},
   "outputs": [
    {
     "data": {
      "text/plain": [
       "array(['Gourmet brewed coffee', 'Brewed Chai tea', 'Hot chocolate',\n",
       "       'Drip coffee', 'Scone', 'Barista Espresso', 'Brewed Black tea',\n",
       "       'Brewed Green tea', 'Brewed herbal tea', 'Biscotti', 'Pastry',\n",
       "       'Organic brewed coffee', 'Premium brewed coffee', 'Regular syrup',\n",
       "       'Herbal tea', 'Gourmet Beans', 'Organic Beans', 'Sugar free syrup',\n",
       "       'Drinking Chocolate', 'Premium Beans', 'Chai tea', 'Green beans',\n",
       "       'Espresso Beans', 'Green tea', 'Organic Chocolate', 'Housewares',\n",
       "       'Black tea', 'House blend Beans', 'Clothing'], dtype=object)"
      ]
     },
     "execution_count": 11,
     "metadata": {},
     "output_type": "execute_result"
    }
   ],
   "source": [
    "df_coffee_sales[\"product_type\"].unique()"
   ]
  },
  {
   "cell_type": "code",
   "execution_count": 12,
   "id": "e2d399d2-02c2-427d-9ef2-874d198f5266",
   "metadata": {},
   "outputs": [
    {
     "data": {
      "text/plain": [
       "product_type\n",
       "Brewed Chai tea          17183\n",
       "Gourmet brewed coffee    16912\n",
       "Barista Espresso         16403\n",
       "Hot chocolate            11468\n",
       "Brewed Black tea         11350\n",
       "Brewed herbal tea        11245\n",
       "Scone                    10173\n",
       "Organic brewed coffee     8489\n",
       "Drip coffee               8477\n",
       "Premium brewed coffee     8135\n",
       "Pastry                    6912\n",
       "Biscotti                  5711\n",
       "Brewed Green tea          5671\n",
       "Regular syrup             4979\n",
       "Sugar free syrup          1811\n",
       "Housewares                 526\n",
       "Chai tea                   443\n",
       "Organic Beans              415\n",
       "Gourmet Beans              366\n",
       "Premium Beans              336\n",
       "Espresso Beans             319\n",
       "Herbal tea                 305\n",
       "Black tea                  303\n",
       "Drinking Chocolate         266\n",
       "Organic Chocolate          221\n",
       "Clothing                   221\n",
       "House blend Beans          183\n",
       "Green tea                  159\n",
       "Green beans                134\n",
       "Name: count, dtype: int64"
      ]
     },
     "execution_count": 12,
     "metadata": {},
     "output_type": "execute_result"
    }
   ],
   "source": [
    "df_coffee_sales[\"product_type\"].value_counts()"
   ]
  },
  {
   "cell_type": "markdown",
   "id": "45d36caa-3b7a-447e-8dcc-2cbbb972644a",
   "metadata": {},
   "source": [
    "#### Verificação dos valores únicos de product_detail"
   ]
  },
  {
   "cell_type": "code",
   "execution_count": 13,
   "id": "a21560bf-1c99-401f-9107-9eeac54616a6",
   "metadata": {},
   "outputs": [
    {
     "data": {
      "text/plain": [
       "array(['Ethiopia Rg', 'Spicy Eye Opener Chai Lg', 'Dark chocolate Lg',\n",
       "       'Our Old Time Diner Blend Sm', 'Oatmeal Scone',\n",
       "       'Columbian Medium Roast Sm', 'Latte Rg', 'Dark chocolate Rg',\n",
       "       'Spicy Eye Opener Chai Rg', 'Ethiopia Lg', 'Earl Grey Lg',\n",
       "       'Ouro Brasileiro shot', 'Serenity Green Tea Lg',\n",
       "       'Jumbo Savory Scone', 'Lemon Grass Rg',\n",
       "       'Sustainably Grown Organic Lg', 'Hazelnut Biscotti', 'Cappuccino',\n",
       "       'Lemon Grass Lg', 'Chocolate Chip Biscotti', 'Peppermint Lg',\n",
       "       'Chocolate Croissant', 'Latte', 'Brazilian Rg', 'Brazilian Lg',\n",
       "       'Columbian Medium Roast Rg', 'Morning Sunrise Chai Rg',\n",
       "       'Morning Sunrise Chai Lg', 'Our Old Time Diner Blend Lg',\n",
       "       'Sustainably Grown Organic Rg', 'Scottish Cream Scone ',\n",
       "       'Peppermint Rg', 'English Breakfast Rg',\n",
       "       'Our Old Time Diner Blend Rg', 'Serenity Green Tea Rg',\n",
       "       'Brazilian Sm', 'Jamaican Coffee River Sm',\n",
       "       'Jamaican Coffee River Lg', 'Ginger Biscotti',\n",
       "       'Traditional Blend Chai Lg', 'Cappuccino Lg', 'Espresso shot',\n",
       "       'Earl Grey Rg', 'Ginger Scone', 'Jamaican Coffee River Rg',\n",
       "       'Cranberry Scone', 'Almond Croissant', 'Croissant', 'Ethiopia Sm',\n",
       "       'English Breakfast Lg', 'Traditional Blend Chai Rg',\n",
       "       'Columbian Medium Roast Lg', 'Hazelnut syrup', 'Peppermint',\n",
       "       'Carmel syrup', 'Ethiopia', 'Organic Decaf Blend',\n",
       "       'Sugar Free Vanilla syrup', 'Chocolate syrup', 'Dark chocolate',\n",
       "       'Jamacian Coffee River', 'Brazilian - Organic',\n",
       "       'Morning Sunrise Chai', 'Guatemalan Sustainably Grown',\n",
       "       'Primo Espresso Roast', 'Serenity Green Tea',\n",
       "       'Traditional Blend Chai', 'Espresso Roast',\n",
       "       'Sustainably Grown Organic', 'I Need My Bean! Latte cup',\n",
       "       'Spicy Eye Opener Chai', 'Chili Mayan', 'English Breakfast',\n",
       "       'Lemon Grass', 'Columbian Medium Roast',\n",
       "       'Our Old Time Diner Blend', 'I Need My Bean! T-shirt', 'Earl Grey',\n",
       "       'Civet Cat', 'I Need My Bean! Diner mug'], dtype=object)"
      ]
     },
     "execution_count": 13,
     "metadata": {},
     "output_type": "execute_result"
    }
   ],
   "source": [
    "df_coffee_sales[\"product_detail\"].unique()"
   ]
  },
  {
   "cell_type": "markdown",
   "id": "acafbe47-7603-4118-8646-1748806322fd",
   "metadata": {},
   "source": [
    "##### Checagem e limpeza de strings vazias ou espaços"
   ]
  },
  {
   "cell_type": "code",
   "execution_count": 14,
   "id": "e6cfd635-bbe6-4c2a-aa60-c7d5221b1463",
   "metadata": {},
   "outputs": [
    {
     "name": "stdout",
     "output_type": "stream",
     "text": [
      "store_location tem 0 registros em branco.\n",
      "product_category tem 0 registros em branco.\n",
      "product_type tem 0 registros em branco.\n",
      "product_detail tem 0 registros em branco.\n"
     ]
    }
   ],
   "source": [
    "# Checagem e limpeza de strings vazias ou espaços\n",
    "df_check = df_coffee_sales[[\"store_location\", \"product_category\", \"product_type\", \"product_detail\"]]\n",
    "\n",
    "for col in df_check.select_dtypes(include='object').columns:\n",
    "    vazios = df_check[col].str.strip().eq('').sum()\n",
    "    if vazios >= 0:\n",
    "        print(f\"{col} tem {vazios} registros em branco.\")"
   ]
  },
  {
   "cell_type": "markdown",
   "id": "b142e10b-8110-4c3f-9155-af11b10b7cba",
   "metadata": {},
   "source": [
    "### Colunas derivadas"
   ]
  },
  {
   "cell_type": "code",
   "execution_count": 15,
   "id": "a4cdb7b0-3a41-4696-a741-a714fa207327",
   "metadata": {},
   "outputs": [],
   "source": [
    "# Colunas derivadas\n",
    "df_coffee_sales[\"ano\"] = df_coffee_sales[\"transaction_date\"].dt.year\n",
    "df_coffee_sales[\"valor_total\"] = df_coffee_sales[\"transaction_qty\"] * df_coffee_sales[\"unit_price\"]\n",
    "#df_coffee_sales[\"month\"] = df_coffee_sales[\"transaction_date\"].dt.month\n",
    "#df_coffee_sales[\"day_of_week\"] = df_coffee_sales[\"transaction_date\"].dt.day_name()"
   ]
  },
  {
   "cell_type": "markdown",
   "id": "c1f1f6e5-1d7e-4db2-901b-65ae95ad1589",
   "metadata": {},
   "source": [
    "### Normalização de texto"
   ]
  },
  {
   "cell_type": "code",
   "execution_count": 16,
   "id": "eb134fc3-6935-497f-9dd7-49781da64f54",
   "metadata": {},
   "outputs": [],
   "source": [
    "# Normalização de texto\n",
    "df_coffee_sales[\"store_location\"] = df_coffee_sales[\"store_location\"].str.strip().str.title()\n",
    "df_coffee_sales[\"product_category\"] = df_coffee_sales[\"product_category\"].str.strip().str.title()\n",
    "df_coffee_sales[\"product_type\"] = df_coffee_sales[\"product_type\"].str.strip().str.title()\n",
    "df_coffee_sales[\"product_detail\"] = df_coffee_sales[\"product_detail\"].str.strip().str.title()"
   ]
  },
  {
   "cell_type": "markdown",
   "id": "b57617ed-b9aa-4e9e-975c-a1b829b20266",
   "metadata": {},
   "source": [
    "### Verificação de duplicatas"
   ]
  },
  {
   "cell_type": "code",
   "execution_count": 17,
   "id": "1fe78482-3a7e-4505-bf03-c9b021a0f798",
   "metadata": {},
   "outputs": [
    {
     "name": "stdout",
     "output_type": "stream",
     "text": [
      "Duplicatas: 0\n"
     ]
    }
   ],
   "source": [
    "# Verificação de duplicatas\n",
    "print(\"Duplicatas:\", df_coffee_sales.duplicated().sum())"
   ]
  },
  {
   "cell_type": "code",
   "execution_count": 18,
   "id": "5872b5c5-33a9-461e-aa43-4aa4a88df0f8",
   "metadata": {},
   "outputs": [
    {
     "data": {
      "text/html": [
       "<div>\n",
       "<style scoped>\n",
       "    .dataframe tbody tr th:only-of-type {\n",
       "        vertical-align: middle;\n",
       "    }\n",
       "\n",
       "    .dataframe tbody tr th {\n",
       "        vertical-align: top;\n",
       "    }\n",
       "\n",
       "    .dataframe thead th {\n",
       "        text-align: right;\n",
       "    }\n",
       "</style>\n",
       "<table border=\"1\" class=\"dataframe\">\n",
       "  <thead>\n",
       "    <tr style=\"text-align: right;\">\n",
       "      <th></th>\n",
       "      <th>transaction_id</th>\n",
       "      <th>transaction_date</th>\n",
       "      <th>transaction_time</th>\n",
       "      <th>transaction_qty</th>\n",
       "      <th>store_id</th>\n",
       "      <th>store_location</th>\n",
       "      <th>product_id</th>\n",
       "      <th>unit_price</th>\n",
       "      <th>product_category</th>\n",
       "      <th>product_type</th>\n",
       "      <th>product_detail</th>\n",
       "      <th>ano</th>\n",
       "      <th>valor_total</th>\n",
       "    </tr>\n",
       "  </thead>\n",
       "  <tbody>\n",
       "    <tr>\n",
       "      <th>0</th>\n",
       "      <td>1</td>\n",
       "      <td>2023-01-01</td>\n",
       "      <td>07:06:11</td>\n",
       "      <td>2</td>\n",
       "      <td>5</td>\n",
       "      <td>Lower Manhattan</td>\n",
       "      <td>32</td>\n",
       "      <td>3.0</td>\n",
       "      <td>Coffee</td>\n",
       "      <td>Gourmet Brewed Coffee</td>\n",
       "      <td>Ethiopia Rg</td>\n",
       "      <td>2023</td>\n",
       "      <td>6.0</td>\n",
       "    </tr>\n",
       "    <tr>\n",
       "      <th>1</th>\n",
       "      <td>2</td>\n",
       "      <td>2023-01-01</td>\n",
       "      <td>07:08:56</td>\n",
       "      <td>2</td>\n",
       "      <td>5</td>\n",
       "      <td>Lower Manhattan</td>\n",
       "      <td>57</td>\n",
       "      <td>3.1</td>\n",
       "      <td>Tea</td>\n",
       "      <td>Brewed Chai Tea</td>\n",
       "      <td>Spicy Eye Opener Chai Lg</td>\n",
       "      <td>2023</td>\n",
       "      <td>6.2</td>\n",
       "    </tr>\n",
       "    <tr>\n",
       "      <th>2</th>\n",
       "      <td>3</td>\n",
       "      <td>2023-01-01</td>\n",
       "      <td>07:14:04</td>\n",
       "      <td>2</td>\n",
       "      <td>5</td>\n",
       "      <td>Lower Manhattan</td>\n",
       "      <td>59</td>\n",
       "      <td>4.5</td>\n",
       "      <td>Drinking Chocolate</td>\n",
       "      <td>Hot Chocolate</td>\n",
       "      <td>Dark Chocolate Lg</td>\n",
       "      <td>2023</td>\n",
       "      <td>9.0</td>\n",
       "    </tr>\n",
       "    <tr>\n",
       "      <th>3</th>\n",
       "      <td>4</td>\n",
       "      <td>2023-01-01</td>\n",
       "      <td>07:20:24</td>\n",
       "      <td>1</td>\n",
       "      <td>5</td>\n",
       "      <td>Lower Manhattan</td>\n",
       "      <td>22</td>\n",
       "      <td>2.0</td>\n",
       "      <td>Coffee</td>\n",
       "      <td>Drip Coffee</td>\n",
       "      <td>Our Old Time Diner Blend Sm</td>\n",
       "      <td>2023</td>\n",
       "      <td>2.0</td>\n",
       "    </tr>\n",
       "    <tr>\n",
       "      <th>4</th>\n",
       "      <td>5</td>\n",
       "      <td>2023-01-01</td>\n",
       "      <td>07:22:41</td>\n",
       "      <td>2</td>\n",
       "      <td>5</td>\n",
       "      <td>Lower Manhattan</td>\n",
       "      <td>57</td>\n",
       "      <td>3.1</td>\n",
       "      <td>Tea</td>\n",
       "      <td>Brewed Chai Tea</td>\n",
       "      <td>Spicy Eye Opener Chai Lg</td>\n",
       "      <td>2023</td>\n",
       "      <td>6.2</td>\n",
       "    </tr>\n",
       "  </tbody>\n",
       "</table>\n",
       "</div>"
      ],
      "text/plain": [
       "   transaction_id transaction_date transaction_time  transaction_qty  \\\n",
       "0               1       2023-01-01         07:06:11                2   \n",
       "1               2       2023-01-01         07:08:56                2   \n",
       "2               3       2023-01-01         07:14:04                2   \n",
       "3               4       2023-01-01         07:20:24                1   \n",
       "4               5       2023-01-01         07:22:41                2   \n",
       "\n",
       "   store_id   store_location  product_id  unit_price    product_category  \\\n",
       "0         5  Lower Manhattan          32         3.0              Coffee   \n",
       "1         5  Lower Manhattan          57         3.1                 Tea   \n",
       "2         5  Lower Manhattan          59         4.5  Drinking Chocolate   \n",
       "3         5  Lower Manhattan          22         2.0              Coffee   \n",
       "4         5  Lower Manhattan          57         3.1                 Tea   \n",
       "\n",
       "            product_type               product_detail   ano  valor_total  \n",
       "0  Gourmet Brewed Coffee                  Ethiopia Rg  2023          6.0  \n",
       "1        Brewed Chai Tea     Spicy Eye Opener Chai Lg  2023          6.2  \n",
       "2          Hot Chocolate            Dark Chocolate Lg  2023          9.0  \n",
       "3            Drip Coffee  Our Old Time Diner Blend Sm  2023          2.0  \n",
       "4        Brewed Chai Tea     Spicy Eye Opener Chai Lg  2023          6.2  "
      ]
     },
     "execution_count": 18,
     "metadata": {},
     "output_type": "execute_result"
    }
   ],
   "source": [
    "df_coffee_sales.head()"
   ]
  },
  {
   "cell_type": "code",
   "execution_count": 19,
   "id": "3061c064-f696-4bea-b3fa-e126b678c57d",
   "metadata": {},
   "outputs": [
    {
     "name": "stdout",
     "output_type": "stream",
     "text": [
      "<class 'pandas.core.frame.DataFrame'>\n",
      "RangeIndex: 149116 entries, 0 to 149115\n",
      "Data columns (total 13 columns):\n",
      " #   Column            Non-Null Count   Dtype         \n",
      "---  ------            --------------   -----         \n",
      " 0   transaction_id    149116 non-null  int64         \n",
      " 1   transaction_date  149116 non-null  datetime64[ns]\n",
      " 2   transaction_time  149116 non-null  object        \n",
      " 3   transaction_qty   149116 non-null  int64         \n",
      " 4   store_id          149116 non-null  int64         \n",
      " 5   store_location    149116 non-null  object        \n",
      " 6   product_id        149116 non-null  int64         \n",
      " 7   unit_price        149116 non-null  float64       \n",
      " 8   product_category  149116 non-null  object        \n",
      " 9   product_type      149116 non-null  object        \n",
      " 10  product_detail    149116 non-null  object        \n",
      " 11  ano               149116 non-null  int32         \n",
      " 12  valor_total       149116 non-null  float64       \n",
      "dtypes: datetime64[ns](1), float64(2), int32(1), int64(4), object(5)\n",
      "memory usage: 14.2+ MB\n"
     ]
    },
    {
     "data": {
      "text/plain": [
       "transaction_id      0\n",
       "transaction_date    0\n",
       "transaction_time    0\n",
       "transaction_qty     0\n",
       "store_id            0\n",
       "store_location      0\n",
       "product_id          0\n",
       "unit_price          0\n",
       "product_category    0\n",
       "product_type        0\n",
       "product_detail      0\n",
       "ano                 0\n",
       "valor_total         0\n",
       "dtype: int64"
      ]
     },
     "execution_count": 19,
     "metadata": {},
     "output_type": "execute_result"
    }
   ],
   "source": [
    "df_coffee_sales.info()\n",
    "df_coffee_sales.describe()\n",
    "df_coffee_sales.isnull().sum()"
   ]
  },
  {
   "cell_type": "code",
   "execution_count": null,
   "id": "b4b815ca-da7f-46f3-b8b0-1fb3c6a84d3f",
   "metadata": {},
   "outputs": [],
   "source": []
  },
  {
   "cell_type": "markdown",
   "id": "27b5615f-92df-414c-9352-7adf8066fbf7",
   "metadata": {},
   "source": [
    "## ✅ Estado Atual do DataFrame após Preparação dos Dados\n",
    "\n",
    "Após a etapa de preparação dos dados, o DataFrame encontra-se limpo, padronizado e pronto para transformações analíticas mais avançadas. Foram realizados os seguintes procedimentos:\n",
    "\n",
    "- **Conversão da coluna `transaction_date`** para o tipo `datetime`.\n",
    "- **Criação da coluna derivada `ano`**, extraída a partir da data da transação, para facilitar análises temporais.\n",
    "- **Limpeza de strings vazias ou compostas apenas por espaços** em colunas do tipo texto.\n",
    "- **Normalização textual** das colunas categóricas (`store_location`, `product_category`, `product_type` e `product_detail`) com remoção de espaços extras e padronização de capitalização.\n",
    "- **Verificação e confirmação de ausência de valores nulos** em todas as colunas.\n",
    "- **Checagem e remoção de duplicatas**, garantindo unicidade das transações registradas.\n"
   ]
  },
  {
   "cell_type": "code",
   "execution_count": 20,
   "id": "bfafb3df-fe43-40a7-a6dc-70477d2685f3",
   "metadata": {},
   "outputs": [
    {
     "data": {
      "text/html": [
       "<div>\n",
       "<style scoped>\n",
       "    .dataframe tbody tr th:only-of-type {\n",
       "        vertical-align: middle;\n",
       "    }\n",
       "\n",
       "    .dataframe tbody tr th {\n",
       "        vertical-align: top;\n",
       "    }\n",
       "\n",
       "    .dataframe thead th {\n",
       "        text-align: right;\n",
       "    }\n",
       "</style>\n",
       "<table border=\"1\" class=\"dataframe\">\n",
       "  <thead>\n",
       "    <tr style=\"text-align: right;\">\n",
       "      <th></th>\n",
       "      <th>transaction_id</th>\n",
       "      <th>transaction_date</th>\n",
       "      <th>transaction_qty</th>\n",
       "      <th>store_id</th>\n",
       "      <th>product_id</th>\n",
       "      <th>unit_price</th>\n",
       "      <th>ano</th>\n",
       "      <th>valor_total</th>\n",
       "    </tr>\n",
       "  </thead>\n",
       "  <tbody>\n",
       "    <tr>\n",
       "      <th>count</th>\n",
       "      <td>149116.000000</td>\n",
       "      <td>149116</td>\n",
       "      <td>149116.000000</td>\n",
       "      <td>149116.000000</td>\n",
       "      <td>149116.000000</td>\n",
       "      <td>149116.000000</td>\n",
       "      <td>149116.0</td>\n",
       "      <td>149116.000000</td>\n",
       "    </tr>\n",
       "    <tr>\n",
       "      <th>mean</th>\n",
       "      <td>74737.371872</td>\n",
       "      <td>2023-04-15 11:50:32.173609984</td>\n",
       "      <td>1.438276</td>\n",
       "      <td>5.342063</td>\n",
       "      <td>47.918607</td>\n",
       "      <td>3.382219</td>\n",
       "      <td>2023.0</td>\n",
       "      <td>4.686367</td>\n",
       "    </tr>\n",
       "    <tr>\n",
       "      <th>min</th>\n",
       "      <td>1.000000</td>\n",
       "      <td>2023-01-01 00:00:00</td>\n",
       "      <td>1.000000</td>\n",
       "      <td>3.000000</td>\n",
       "      <td>1.000000</td>\n",
       "      <td>0.800000</td>\n",
       "      <td>2023.0</td>\n",
       "      <td>0.800000</td>\n",
       "    </tr>\n",
       "    <tr>\n",
       "      <th>25%</th>\n",
       "      <td>37335.750000</td>\n",
       "      <td>2023-03-06 00:00:00</td>\n",
       "      <td>1.000000</td>\n",
       "      <td>3.000000</td>\n",
       "      <td>33.000000</td>\n",
       "      <td>2.500000</td>\n",
       "      <td>2023.0</td>\n",
       "      <td>3.000000</td>\n",
       "    </tr>\n",
       "    <tr>\n",
       "      <th>50%</th>\n",
       "      <td>74727.500000</td>\n",
       "      <td>2023-04-24 00:00:00</td>\n",
       "      <td>1.000000</td>\n",
       "      <td>5.000000</td>\n",
       "      <td>47.000000</td>\n",
       "      <td>3.000000</td>\n",
       "      <td>2023.0</td>\n",
       "      <td>3.750000</td>\n",
       "    </tr>\n",
       "    <tr>\n",
       "      <th>75%</th>\n",
       "      <td>112094.250000</td>\n",
       "      <td>2023-05-30 00:00:00</td>\n",
       "      <td>2.000000</td>\n",
       "      <td>8.000000</td>\n",
       "      <td>60.000000</td>\n",
       "      <td>3.750000</td>\n",
       "      <td>2023.0</td>\n",
       "      <td>6.000000</td>\n",
       "    </tr>\n",
       "    <tr>\n",
       "      <th>max</th>\n",
       "      <td>149456.000000</td>\n",
       "      <td>2023-06-30 00:00:00</td>\n",
       "      <td>8.000000</td>\n",
       "      <td>8.000000</td>\n",
       "      <td>87.000000</td>\n",
       "      <td>45.000000</td>\n",
       "      <td>2023.0</td>\n",
       "      <td>360.000000</td>\n",
       "    </tr>\n",
       "    <tr>\n",
       "      <th>std</th>\n",
       "      <td>43153.600016</td>\n",
       "      <td>NaN</td>\n",
       "      <td>0.542509</td>\n",
       "      <td>2.074241</td>\n",
       "      <td>17.930020</td>\n",
       "      <td>2.658723</td>\n",
       "      <td>0.0</td>\n",
       "      <td>4.227099</td>\n",
       "    </tr>\n",
       "  </tbody>\n",
       "</table>\n",
       "</div>"
      ],
      "text/plain": [
       "       transaction_id               transaction_date  transaction_qty  \\\n",
       "count   149116.000000                         149116    149116.000000   \n",
       "mean     74737.371872  2023-04-15 11:50:32.173609984         1.438276   \n",
       "min          1.000000            2023-01-01 00:00:00         1.000000   \n",
       "25%      37335.750000            2023-03-06 00:00:00         1.000000   \n",
       "50%      74727.500000            2023-04-24 00:00:00         1.000000   \n",
       "75%     112094.250000            2023-05-30 00:00:00         2.000000   \n",
       "max     149456.000000            2023-06-30 00:00:00         8.000000   \n",
       "std      43153.600016                            NaN         0.542509   \n",
       "\n",
       "            store_id     product_id     unit_price       ano    valor_total  \n",
       "count  149116.000000  149116.000000  149116.000000  149116.0  149116.000000  \n",
       "mean        5.342063      47.918607       3.382219    2023.0       4.686367  \n",
       "min         3.000000       1.000000       0.800000    2023.0       0.800000  \n",
       "25%         3.000000      33.000000       2.500000    2023.0       3.000000  \n",
       "50%         5.000000      47.000000       3.000000    2023.0       3.750000  \n",
       "75%         8.000000      60.000000       3.750000    2023.0       6.000000  \n",
       "max         8.000000      87.000000      45.000000    2023.0     360.000000  \n",
       "std         2.074241      17.930020       2.658723       0.0       4.227099  "
      ]
     },
     "execution_count": 20,
     "metadata": {},
     "output_type": "execute_result"
    }
   ],
   "source": [
    "df_coffee_sales.describe()"
   ]
  },
  {
   "cell_type": "markdown",
   "id": "6a106bfd-dadb-4cd0-ac48-9d3b26c6b731",
   "metadata": {},
   "source": [
    "## Criação do Target\n",
    "### 🎯 Definição do Target: `venda_alta`\n",
    "\n",
    "Para aplicar algoritmos de classificação, foi necessário transformar a variável `valor_total` (preço total da venda) em uma variável categórica binária que indique se uma venda foi **alta** ou **baixa**.\n",
    "\n",
    "O critério utilizado foi o **percentil 75% (terceiro quartil)** da variável `valor_total`, separando as vendas em:\n",
    "\n",
    "- `0`: vendas com valor total **igual ou abaixo** do percentil 75% (vendas consideradas comuns ou de menor valor);\n",
    "- `1`: vendas com valor total **acima** do percentil 75% (vendas consideradas altas).\n",
    "\n",
    "Essa escolha visa destacar o grupo de vendas que se sobressaem significativamente em relação à maioria, focando em padrões que caracterizam as transações mais lucrativas da empresa.\n",
    "\n",
    "A distribuição resultante foi a seguinte:\n",
    "\n",
    "| Valor | Classe         | Proporção |\n",
    "|-------|----------------|-----------|\n",
    "| 0     | Venda baixa    | ~82.2%    |\n",
    "| 1     | Venda alta     | ~17.8%    |\n",
    "\n",
    "Além disso, o **boxplot abaixo** mostra que as vendas altas (`1`) apresentam **uma maior dispersão no preço unitário**, com diversos **outliers** (valores muito acima da média). Isso sugere que produtos mais caros contribuem com frequência para vendas de maior valor total:\n"
   ]
  },
  {
   "cell_type": "code",
   "execution_count": 21,
   "id": "f20da1bd-8675-44cc-ab44-6507d8328f27",
   "metadata": {},
   "outputs": [
    {
     "name": "stdout",
     "output_type": "stream",
     "text": [
      "venda_alta\n",
      "0    0.822085\n",
      "1    0.177915\n",
      "Name: proportion, dtype: float64\n"
     ]
    }
   ],
   "source": [
    "# Calcular o limite superior (Q3) para definir \"venda alta\"\n",
    "limite_venda_alta = df_coffee_sales[\"valor_total\"].quantile(0.75)\n",
    "\n",
    "# Criar a coluna target\n",
    "df_coffee_sales[\"venda_alta\"] = (df_coffee_sales[\"valor_total\"] > limite_venda_alta).astype(int)\n",
    "\n",
    "# Verificar distribuição do target\n",
    "print(df_coffee_sales[\"venda_alta\"].value_counts(normalize=True))"
   ]
  },
  {
   "cell_type": "code",
   "execution_count": 22,
   "id": "d54501cb-0058-4ed0-9431-cae9ea859c17",
   "metadata": {},
   "outputs": [
    {
     "data": {
      "text/plain": [
       "<Axes: title={'center': 'Distribuição de Total de Vendas por Faixa de Venda'}, xlabel='Venda Alta (1) ou Baixa (0)', ylabel='Total da Venda (R$)'>"
      ]
     },
     "execution_count": 22,
     "metadata": {},
     "output_type": "execute_result"
    },
    {
     "data": {
      "image/png": "[encoded data removed]",
      "text/plain": [
       "<Figure size 640x480 with 1 Axes>"
      ]
     },
     "metadata": {},
     "output_type": "display_data"
    }
   ],
   "source": [
    "plt.title(\"Distribuição de Total de Vendas por Faixa de Venda\")\n",
    "plt.xlabel(\"Venda Alta (1) ou Baixa (0)\")\n",
    "plt.ylabel(\"Total da Venda (R$)\")\n",
    "sns.boxplot(x=\"venda_alta\", y=\"unit_price\", data=df_coffee_sales)"
   ]
  },
  {
   "cell_type": "markdown",
   "id": "964e568b-d94e-4866-ae4b-5ca53ed58432",
   "metadata": {},
   "source": [
    "Essa visualização reforça a ideia de que produtos de maior preço unitário estão frequentemente presentes nas vendas classificadas como `venda_alta`, sendo, portanto, uma variável relevante a ser considerada no modelo de machine learning."
   ]
  },
  {
   "cell_type": "markdown",
   "id": "624b7d4c-2fa7-4ab5-99ec-519afb6db0e9",
   "metadata": {},
   "source": [
    "### Criação de tabela calendário"
   ]
  },
  {
   "cell_type": "code",
   "execution_count": 23,
   "id": "cfdd92e4-f480-4061-924d-2aee433915db",
   "metadata": {},
   "outputs": [],
   "source": [
    "data_min = df_coffee_sales['transaction_date'].min()\n",
    "data_max = df_coffee_sales['transaction_date'].max()\n",
    "\n",
    "df_tabela_calendario = pd.DataFrame({\n",
    "    'date': pd.date_range(start=data_min, end=data_max, freq='D')\n",
    "})\n",
    "\n",
    "df_tabela_calendario['ano'] = df_tabela_calendario['date'].dt.year\n",
    "df_tabela_calendario['mes'] = df_tabela_calendario['date'].dt.month\n",
    "df_tabela_calendario['nome_mes'] = df_tabela_calendario['date'].dt.month_name()\n",
    "df_tabela_calendario['trimestre'] = df_tabela_calendario['date'].dt.to_period('Q').astype(str)\n",
    "df_tabela_calendario['dia_da_semana'] = df_tabela_calendario['date'].dt.day_name()\n",
    "df_tabela_calendario['fim_de_semana'] = df_tabela_calendario['date'].dt.weekday >= 5\n",
    "df_tabela_calendario['ano_mes'] = df_tabela_calendario['date'].dt.to_period('M').astype(str)"
   ]
  },
  {
   "cell_type": "markdown",
   "id": "f67a0822-d611-4c42-9356-0d3955c30394",
   "metadata": {},
   "source": [
    "## Exportação de dados transformados"
   ]
  },
  {
   "cell_type": "code",
   "execution_count": 24,
   "id": "9b2a65a5-8469-4c9e-8fc2-948f1d935fbd",
   "metadata": {},
   "outputs": [],
   "source": [
    "df_coffee_sales.to_csv(\"coffee_sales_com_target.csv\", index=False, encoding=\"utf-8\")\n",
    "df_tabela_calendario.to_csv(\"tabela_calendario.csv\", index=False, encoding=\"utf-8\")"
   ]
  },
  {
   "cell_type": "code",
   "execution_count": null,
   "id": "8ab69fb1-695d-4195-a408-88175e35ecbe",
   "metadata": {},
   "outputs": [],
   "source": []
  }
 ],
 "metadata": {
  "kernelspec": {
   "display_name": "Python 3 (ipykernel)",
   "language": "python",
   "name": "python3"
  },
  "language_info": {
   "codemirror_mode": {
    "name": "ipython",
    "version": 3
   },
   "file_extension": ".py",
   "mimetype": "text/x-python",
   "name": "python",
   "nbconvert_exporter": "python",
   "pygments_lexer": "ipython3",
   "version": "3.12.7"
  }
 },
 "nbformat": 4,
 "nbformat_minor": 5
}
